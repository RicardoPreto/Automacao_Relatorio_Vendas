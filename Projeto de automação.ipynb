{
 "cells": [
  {
   "cell_type": "markdown",
   "metadata": {},
   "source": [
    "# Automação de Sistemas e Processos com Python\n",
    "\n",
    "### Desafio:\n",
    "\n",
    "Todos os dias, o nosso sistema atualiza as vendas do dia anterior.\n",
    "O seu trabalho diário, como analista, é enviar um e-mail para a diretoria, assim que começar a trabalhar, com o faturamento e a quantidade de produtos vendidos no dia anterior\n",
    "\n",
    "E-mail da diretoria: ricardothechampion+diretoria@outlook.com<br>\n",
    "Local onde o sistema disponibiliza as vendas do dia anterior: https://drive.google.com/drive/u/0/folders/19mi67yi3YWJmgvj76fcZ6goPF2nZfTDE\n",
    "\n",
    "Para resolver isso, vamos usar o pyautogui, uma biblioteca de automação de comandos do mouse e do teclado"
   ]
  },
  {
   "cell_type": "code",
   "execution_count": 74,
   "metadata": {},
   "outputs": [],
   "source": [
    "# Importar as bibliotecas\n",
    "import pyautogui\n",
    "import time\n",
    "import pyperclip"
   ]
  },
  {
   "cell_type": "code",
   "execution_count": 75,
   "metadata": {},
   "outputs": [],
   "source": [
    "# Definir tempo\n",
    "pyautogui.PAUSE = 1\n",
    "\n",
    "# Alerta para não utilizar o programa, enquanto a automação está rodando\n",
    "pyautogui.alert(\"O programa se iniciará. Não utilize nada do computador, enquanto isso\")\n",
    "\n",
    "# Esperar um tempo  -- 5s\n",
    "time.sleep(5)\n",
    "\n",
    "# Criar a variável com o link\n",
    "url = \"https://drive.google.com/drive/folders/19mi67yi3YWJmgvj76fcZ6goPF2nZfTDE\"\n",
    "\n",
    "# Criar a nova aba\n",
    "pyautogui.hotkey(\"command\", \"t\")\n",
    "\n",
    "# Dar ctrl+C\n",
    "pyperclip.copy(url)\n",
    "\n",
    "# Colar o link\n",
    "pyautogui.hotkey(\"command\", \"v\")\n",
    "pyautogui.press(\"enter\")\n",
    "\n",
    "# Esperar um tempo  -- 3s\n",
    "time.sleep(3)\n",
    "\n",
    "# Clicar no arquivo para conseguir abrir as opções  -- Pixels do Macbook Air 13\n",
    "pyautogui.click(389, 409)\n",
    "\n",
    "# Esperar um tempo  -- 2s\n",
    "time.sleep(2)\n",
    "\n",
    "# Abrir as opções para fazer o download\n",
    "pyautogui.click(1237, 191)\n",
    "\n",
    "# Esperar um tempo  -- 2s\n",
    "time.sleep(2)\n",
    "\n",
    "# Fazer o download do arquivo\n",
    "pyautogui.click(1057, 599)\n",
    "\n",
    "# Esperar o download ser feito  -- 10s\n",
    "time.sleep(10)"
   ]
  },
  {
   "cell_type": "markdown",
   "metadata": {},
   "source": [
    "### Vamos agora ler o arquivo baixado para pegar os indicadores\n",
    "\n",
    "- Faturamento\n",
    "- Quantidade de Produtos"
   ]
  },
  {
   "cell_type": "code",
   "execution_count": 76,
   "metadata": {},
   "outputs": [],
   "source": [
    "# Importar bibliotecas\n",
    "import pandas as pd"
   ]
  },
  {
   "cell_type": "code",
   "execution_count": 77,
   "metadata": {},
   "outputs": [
    {
     "data": {
      "text/html": [
       "<div>\n",
       "<style scoped>\n",
       "    .dataframe tbody tr th:only-of-type {\n",
       "        vertical-align: middle;\n",
       "    }\n",
       "\n",
       "    .dataframe tbody tr th {\n",
       "        vertical-align: top;\n",
       "    }\n",
       "\n",
       "    .dataframe thead th {\n",
       "        text-align: right;\n",
       "    }\n",
       "</style>\n",
       "<table border=\"1\" class=\"dataframe\">\n",
       "  <thead>\n",
       "    <tr style=\"text-align: right;\">\n",
       "      <th></th>\n",
       "      <th>Código Venda</th>\n",
       "      <th>Data</th>\n",
       "      <th>ID Loja</th>\n",
       "      <th>Produto</th>\n",
       "      <th>Quantidade</th>\n",
       "      <th>Valor Unitário</th>\n",
       "      <th>Valor Final</th>\n",
       "    </tr>\n",
       "  </thead>\n",
       "  <tbody>\n",
       "    <tr>\n",
       "      <th>0</th>\n",
       "      <td>65014</td>\n",
       "      <td>2019-12-01</td>\n",
       "      <td>Shopping Morumbi</td>\n",
       "      <td>Sunga Listrado</td>\n",
       "      <td>5</td>\n",
       "      <td>114</td>\n",
       "      <td>570</td>\n",
       "    </tr>\n",
       "    <tr>\n",
       "      <th>1</th>\n",
       "      <td>65014</td>\n",
       "      <td>2019-12-01</td>\n",
       "      <td>Shopping Morumbi</td>\n",
       "      <td>Casaco Listrado</td>\n",
       "      <td>1</td>\n",
       "      <td>269</td>\n",
       "      <td>269</td>\n",
       "    </tr>\n",
       "    <tr>\n",
       "      <th>2</th>\n",
       "      <td>65016</td>\n",
       "      <td>2019-12-01</td>\n",
       "      <td>Iguatemi Campinas</td>\n",
       "      <td>Sapato Listrado</td>\n",
       "      <td>2</td>\n",
       "      <td>363</td>\n",
       "      <td>726</td>\n",
       "    </tr>\n",
       "    <tr>\n",
       "      <th>3</th>\n",
       "      <td>65016</td>\n",
       "      <td>2019-12-01</td>\n",
       "      <td>Iguatemi Campinas</td>\n",
       "      <td>Casaco</td>\n",
       "      <td>1</td>\n",
       "      <td>250</td>\n",
       "      <td>250</td>\n",
       "    </tr>\n",
       "    <tr>\n",
       "      <th>4</th>\n",
       "      <td>65017</td>\n",
       "      <td>2019-12-01</td>\n",
       "      <td>Shopping SP Market</td>\n",
       "      <td>Gorro Liso</td>\n",
       "      <td>3</td>\n",
       "      <td>92</td>\n",
       "      <td>276</td>\n",
       "    </tr>\n",
       "    <tr>\n",
       "      <th>...</th>\n",
       "      <td>...</td>\n",
       "      <td>...</td>\n",
       "      <td>...</td>\n",
       "      <td>...</td>\n",
       "      <td>...</td>\n",
       "      <td>...</td>\n",
       "      <td>...</td>\n",
       "    </tr>\n",
       "    <tr>\n",
       "      <th>7084</th>\n",
       "      <td>69996</td>\n",
       "      <td>2019-12-26</td>\n",
       "      <td>Center Shopping Uberlândia</td>\n",
       "      <td>Short Listrado</td>\n",
       "      <td>2</td>\n",
       "      <td>102</td>\n",
       "      <td>204</td>\n",
       "    </tr>\n",
       "    <tr>\n",
       "      <th>7085</th>\n",
       "      <td>69996</td>\n",
       "      <td>2019-12-26</td>\n",
       "      <td>Center Shopping Uberlândia</td>\n",
       "      <td>Mochila</td>\n",
       "      <td>4</td>\n",
       "      <td>270</td>\n",
       "      <td>1080</td>\n",
       "    </tr>\n",
       "    <tr>\n",
       "      <th>7086</th>\n",
       "      <td>69996</td>\n",
       "      <td>2019-12-26</td>\n",
       "      <td>Center Shopping Uberlândia</td>\n",
       "      <td>Pulseira Estampa</td>\n",
       "      <td>1</td>\n",
       "      <td>87</td>\n",
       "      <td>87</td>\n",
       "    </tr>\n",
       "    <tr>\n",
       "      <th>7087</th>\n",
       "      <td>69997</td>\n",
       "      <td>2019-12-26</td>\n",
       "      <td>Ribeirão Shopping</td>\n",
       "      <td>Camisa Listrado</td>\n",
       "      <td>1</td>\n",
       "      <td>108</td>\n",
       "      <td>108</td>\n",
       "    </tr>\n",
       "    <tr>\n",
       "      <th>7088</th>\n",
       "      <td>69997</td>\n",
       "      <td>2019-12-26</td>\n",
       "      <td>Ribeirão Shopping</td>\n",
       "      <td>Short Linho</td>\n",
       "      <td>2</td>\n",
       "      <td>133</td>\n",
       "      <td>266</td>\n",
       "    </tr>\n",
       "  </tbody>\n",
       "</table>\n",
       "<p>7089 rows × 7 columns</p>\n",
       "</div>"
      ],
      "text/plain": [
       "      Código Venda       Data                     ID Loja           Produto  \\\n",
       "0            65014 2019-12-01            Shopping Morumbi    Sunga Listrado   \n",
       "1            65014 2019-12-01            Shopping Morumbi   Casaco Listrado   \n",
       "2            65016 2019-12-01           Iguatemi Campinas   Sapato Listrado   \n",
       "3            65016 2019-12-01           Iguatemi Campinas            Casaco   \n",
       "4            65017 2019-12-01          Shopping SP Market        Gorro Liso   \n",
       "...            ...        ...                         ...               ...   \n",
       "7084         69996 2019-12-26  Center Shopping Uberlândia    Short Listrado   \n",
       "7085         69996 2019-12-26  Center Shopping Uberlândia           Mochila   \n",
       "7086         69996 2019-12-26  Center Shopping Uberlândia  Pulseira Estampa   \n",
       "7087         69997 2019-12-26           Ribeirão Shopping   Camisa Listrado   \n",
       "7088         69997 2019-12-26           Ribeirão Shopping       Short Linho   \n",
       "\n",
       "      Quantidade  Valor Unitário  Valor Final  \n",
       "0              5             114          570  \n",
       "1              1             269          269  \n",
       "2              2             363          726  \n",
       "3              1             250          250  \n",
       "4              3              92          276  \n",
       "...          ...             ...          ...  \n",
       "7084           2             102          204  \n",
       "7085           4             270         1080  \n",
       "7086           1              87           87  \n",
       "7087           1             108          108  \n",
       "7088           2             133          266  \n",
       "\n",
       "[7089 rows x 7 columns]"
      ]
     },
     "metadata": {},
     "output_type": "display_data"
    }
   ],
   "source": [
    "# Importar o arquivo\n",
    "datafile = pd.read_excel(r\"/Users/ricardo/Downloads/Vendas - Dez.xlsx\")\n",
    "display(datafile)"
   ]
  },
  {
   "cell_type": "code",
   "execution_count": 78,
   "metadata": {},
   "outputs": [
    {
     "name": "stdout",
     "output_type": "stream",
     "text": [
      "O faturamento foi de: R$ 2917311\n"
     ]
    }
   ],
   "source": [
    "# Calcular o faturamento\n",
    "faturamento = datafile[\"Valor Final\"].sum()\n",
    "print(\"O faturamento foi de: R$\", faturamento)"
   ]
  },
  {
   "cell_type": "code",
   "execution_count": 79,
   "metadata": {},
   "outputs": [
    {
     "name": "stdout",
     "output_type": "stream",
     "text": [
      "A quantidade de produtos vendidos foi de:  15227\n"
     ]
    }
   ],
   "source": [
    "# Calcular a quantidade de produtos vendidos\n",
    "qnt_produtos = datafile[\"Quantidade\"].sum()\n",
    "print(\"A quantidade de produtos vendidos foi de: \", qnt_produtos)"
   ]
  },
  {
   "cell_type": "markdown",
   "metadata": {},
   "source": [
    "### Vamos agora enviar um e-mail pelo gmail"
   ]
  },
  {
   "cell_type": "code",
   "execution_count": 80,
   "metadata": {},
   "outputs": [],
   "source": [
    "# Definir tempo\n",
    "pyautogui.PAUSE = 1\n",
    "\n",
    "# Alerta para não utilizar o programa, enquanto a automação está rodando\n",
    "pyautogui.alert(\"O programa se iniciará. Não utilize nada do computador, enquanto isso\")\n",
    "\n",
    "# Esperar um tempo  -- 5s\n",
    "time.sleep(5)\n",
    "\n",
    "# Criar a variável com o link\n",
    "url_gmail = \"mail.google.com/\"\n",
    "\n",
    "# Criar a nova aba\n",
    "pyautogui.hotkey(\"command\", \"t\")\n",
    "\n",
    "# Dar ctrl+C\n",
    "pyperclip.copy(url_gmail)\n",
    "\n",
    "# Colar o link\n",
    "pyautogui.hotkey(\"command\", \"v\")\n",
    "pyautogui.press(\"enter\")\n",
    "\n",
    "# Esperar um pouco\n",
    "time.sleep(8)\n",
    "\n",
    "# Criar o email\n",
    "pyautogui.click(99, 213)\n",
    "time.sleep(3)\n",
    "pyautogui.write(\"ricardothechampion+diretoria@outlook.com\")\n",
    "pyautogui.press(\"tab\")\n",
    "\n",
    "# Preencher o assunto do email\n",
    "pyautogui.press(\"tab\")\n",
    "assunto = \"Relatório de Vendas\"\n",
    "pyperclip.copy(assunto)\n",
    "pyautogui.hotkey(\"command\", \"v\")\n",
    "\n",
    "# Preencher o email\n",
    "pyautogui.press(\"tab\")\n",
    "texto_email = f\"\"\"\n",
    "Prezados, Bom dia!\n",
    "\n",
    "\n",
    "Seguem os dados solicitados:\n",
    "\n",
    "O faturamento foi de: R$ {faturamento:,.2f}\n",
    "A quantidade de produtos vendidos foi de: {qnt_produtos:,}\n",
    "\n",
    "\n",
    "Melhores cumprimentos,\n",
    "Setor de Vendas.\n",
    "\"\"\"\n",
    "pyperclip.copy(texto_email)\n",
    "pyautogui.hotkey(\"command\", \"v\")\n",
    "\n",
    "# Enviar o email\n",
    "pyautogui.hotkey(\"command\", \"enter\")"
   ]
  },
  {
   "cell_type": "markdown",
   "metadata": {},
   "source": [
    "### Código para descobrir o posicionamento de um item para clicar"
   ]
  },
  {
   "cell_type": "code",
   "execution_count": 81,
   "metadata": {},
   "outputs": [
    {
     "data": {
      "text/plain": [
       "Point(x=99, y=213)"
      ]
     },
     "execution_count": 81,
     "metadata": {},
     "output_type": "execute_result"
    }
   ],
   "source": [
    "# Descobrir o posicionamento para o botão de download\n",
    "time.sleep(5)\n",
    "pyautogui.position()"
   ]
  }
 ],
 "metadata": {
  "kernelspec": {
   "display_name": "Python 3",
   "language": "python",
   "name": "python3"
  },
  "language_info": {
   "codemirror_mode": {
    "name": "ipython",
    "version": 3
   },
   "file_extension": ".py",
   "mimetype": "text/x-python",
   "name": "python",
   "nbconvert_exporter": "python",
   "pygments_lexer": "ipython3",
   "version": "3.8.5"
  }
 },
 "nbformat": 4,
 "nbformat_minor": 4
}